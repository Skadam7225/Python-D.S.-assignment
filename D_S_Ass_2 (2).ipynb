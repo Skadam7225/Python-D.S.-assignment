{
  "nbformat": 4,
  "nbformat_minor": 0,
  "metadata": {
    "colab": {
      "provenance": []
    },
    "kernelspec": {
      "name": "python3",
      "display_name": "Python 3"
    },
    "language_info": {
      "name": "python"
    }
  },
  "cells": [
    {
      "cell_type": "markdown",
      "source": [
        "#DataTypes&Structures\n",
        "1.What are data structures, and why are they important?\n",
        "  - Data structures are ways of organizing and storing data in a computer so that it can be accessed and modified efficiently. They define the layout, relationship, and operation that can be performed on data.\n",
        "  Data structures are fundamental tools in Python for managing and processing data efficiently. Choosing the right one leads to faster, more readable, and more reliable code — critical for everything from simple scripts to large-scale systems.\n",
        "\n",
        "2.Explain the difference between mutable and immutable data types with examples\n",
        " - In Python, mutability refers to whether an object can be changed after it is created.Mutable data types:\n",
        " These can be changed in place.You can modify, add, or remove elements without  creating a new object.\n",
        "Immutable Data Types:\n",
        " These cannot be changed after creation.Any modification creates a new object in memory.\n",
        "\n",
        "3.What are the main differences between lists and tuples in Python?\n",
        " - Mutability:\n",
        " Lists are mutable, meaning you can change, add, or remove items after the list is created.\n",
        " Tuples are immutable, so once they are created, their contents cannot be changed.\n",
        " Syntax:Lists use square brackets: [1, 2, 3]\n",
        " Tuples use parentheses: (1, 2, 3)\n",
        " Performance:\n",
        " Tuples are generally faster than lists because they are immutable and require less memory.\n",
        " Lists are slightly slower, but they offer more flexibility\n",
        "\n",
        "4.Describe how dictionaries store data?\n",
        " - A dictionary in Python stores data as key-value pairs, and it uses a hash table behind the scenes to manage and access this data efficiently.\n",
        " Dictionaries store data as key-value pairs.They use a hash table for fast access.Keys must be unique and immutable.Values can be any data type.\n",
        " Key-Value Pairs\n",
        " Each item in a dictionary is a pair: one key and one value.\n",
        " Example: {'name': 'Alice', 'age': 30}\n",
        " 'name' is the key, 'Alice' is the value.\n",
        " 'age' is the key, 30 is the value\n",
        "\n",
        "5.Why might you use a set instead of a list in Python?\n",
        " - you might use a set instead of a list in Python when you want to store a collection of unique items. Sets automatically remove duplicates, so if your data should not contain repeated values—like a collection of unique user IDs or tags—a set is the better choice.\n",
        " Additionally, sets offer much faster performance when checking whether an item exists in the collection. For example, if you need to check membership frequently (e.g., whether a word is in a dictionary of forbidden words), sets are significantly more efficient than lists because they use a hash-based structure.\n",
        " Sets are also useful when you need to perform mathematical set operations, such as union, intersection, or difference. These operations are built-in and make tasks like comparing two datasets or finding common elements much simpler and cleaner in code.\n",
        "\n",
        "6.What is a string in Python, and how is it different from a list?\n",
        " - A string is a sequence of characters enclosed in single quotes ('), double quotes (\"), or even triple quotes (''' or \"\"\").A list is a sequence of items (elements), which can be of any data type (numbers, strings, booleans, even other lists).A string is just text (sequence of characters).A list is a collection of items (which could include strings!).Biggest difference: strings are immutable, lists are mutable\n",
        " Lists are written inside square brackets [ ].\n",
        "\n",
        "7.How do tuples ensure data integrity in Python?\n",
        "- Tuples in Python ensure data integrity because they are immutable, meaning once created, their elements cannot be changed, added, or removed. This immutability prevents accidental modifications, making tuples reliable for storing constant or fixed data.\n",
        "\n",
        "8.What is a hash table, and how does it relate to dictionaries in Python?\n",
        "- A hash table is a data structure that stores data in key–value pairs and uses a hash function to map each key to an index in an underlying array for fast access.In Python, dictionaries are implemented using hash tables, which is why dictionary operations like lookup, insertion, and deletion are very fast on average.The keys in a Python dictionary must be hashable (immutable types like strings, numbers, and tuples) so that they can be reliably mapped in the hash table\n",
        "\n",
        "9.Can lists contain different data types in Python\n",
        "- Yes, in Python a list can contain elements of different data types. For example, a single list can store integers, strings, floats, booleans, or even other lists togethe\n",
        "\n",
        "10.Explain why strings are immutable in Python\n",
        "- Strings in Python are immutable, meaning their content cannot be changed once created. This is because immutability improves memory efficiency by allowing string reuse, ensures that strings can be used safely as dictionary keys and set elements, and prevents unexpected changes that could cause bugs in a program. Instead of modifying an existing string, Python creates a new string whenever changes are made\n",
        "\n",
        "11.What advantages do dictionaries offer over lists for certain tasks?\n",
        "- Dictionaries offer faster lookups because they use keys instead of index positions. They allow storing data in key–value pairs, making retrieval more intuitive and efficient. Unlike lists, dictionaries can handle non-numeric keys, which makes them more flexible for mapping relationships. They are especially useful when quick searching, updating, or organizing data by unique identifiers is needed.\n",
        "\n",
        "12.Describe a scenario where using a tuple would be preferable over a list?\n",
        "- A tuple would be preferable over a list when you want to store data that should not be changed, such as the coordinates of a point (x, y) or the days of the week. Since tuples are immutable, they ensure the stored data remains constant and safe from accidental modification\n",
        "\n",
        "13.How do sets handle duplicate values in Python?\n",
        "- In Python, sets automatically remove duplicate values. When you add duplicate elements to a set, only one copy of the value is stored, ensuring that every element in a set is unique.\n",
        "\n",
        "14.How does the “in” keyword work differently for lists and dictionaries?\n",
        "- In Python, using the “in” keyword with a list checks whether a value exists among the list’s elements.\n",
        "For dictionaries, the “in” keyword checks whether a specified key is present in the dictionary, not the values.\n",
        "\n",
        "15.Can you modify the elements of a tuple? Explain why or why not?\n",
        "- No, you cannot modify the elements of a tuple in Python because tuples are immutable.This means that once a tuple is created, its elements cannot be changed, added, or removed. The immutability of tuples ensures data integrity and makes them useful for fixed collections of items, such as keys in dictionaries. However, if a tuple contains a mutable element (like a list), the contents of that mutable element can still be changed, but the tuple’s structure itself cannot.\n",
        "\n",
        "16.What is a nested dictionary, and give an example of its use case?\n",
        "- A nested dictionary in Python is a dictionary inside another dictionary. It allows you to store data in a hierarchical or structured way, making it useful for representing complex relationships.Nested dictionaries are useful when working with structured data such as student records\n",
        "\n",
        "17.Describe the time complexity of accessing elements in a dictionary\n",
        "- Accessing elements in a dictionary in Python has:\n",
        "Average Case Time Complexity: O(1)\n",
        "Dictionaries in Python are implemented using hash tables.\n",
        "When you access an element using its key, the hash function computes the index directly, making lookup extremely fast.\n",
        "Worst Case Time Complexity: O(n)\n",
        "In rare cases, when many keys produce the same hash (called hash collisions), Python handles them with linked lists or trees internally.\n",
        "In such cases, lookup could degrade to linear time with respect to the number of elements.\n",
        "Conclusion: Dictionary access is on average O(1) (constant time), but in the worst case, it could be O(n).\n",
        "\n",
        "18.In what situations are lists preferred over dictionaries?\n",
        "- Lists are preferred over dictionaries when you need to maintain the order of elements.They are useful when accessing items by their position or index.\n",
        "Lists are better for storing small collections of similar data.\n",
        "They are also preferred when frequent sorting or sequential iteration is required.\n",
        "In short, lists work best for ordered and index-based data, while dictionaries are better for key-value lookups.\n",
        "\n",
        "19.Why are dictionaries considered unordered, and how does that affect data retrieval?\n",
        "-  In Python versions before 3.7, dictionaries were unordered because they stored items based on the hash values of keys, not in a fixed sequence. From Python 3.7 onwards, dictionaries preserve the order in which items are inserted. However, data retrieval is always done using keys, not by index, which means you cannot rely on position-based access like in lists. If a specific sequence is needed, you should sort the dictionary or use an ordered data structure.\n",
        "\n",
        "20.Explain the difference between a list and a dictionary in terms of data retrieval?\n",
        "- A list retrieves data using an index number, which represents the position of an element in the sequence.\n",
        "A dictionary retrieves data using a key, which directly maps to its associated value.\n",
        "This means lists are best when order matters, while dictionaries are best when fast lookups by a unique identifier are needed.\n",
        "\n",
        "\n",
        "\n",
        "\n",
        "\n",
        "\n"
      ],
      "metadata": {
        "id": "az6Oe6NzwZhD"
      }
    },
    {
      "cell_type": "code",
      "source": [
        "#1.Write a code to create a string with your name and print it\n",
        "str=input(\"enter your name:\")\n",
        "print(\"your name is:\",str)"
      ],
      "metadata": {
        "colab": {
          "base_uri": "https://localhost:8080/"
        },
        "id": "vuQ_032UzQ1X",
        "outputId": "168711ec-2a5a-4806-eb30-d5170b2776ab"
      },
      "execution_count": null,
      "outputs": [
        {
          "output_type": "stream",
          "name": "stdout",
          "text": [
            "enter your name:sumit\n",
            "your name is: sumit\n"
          ]
        }
      ]
    },
    {
      "cell_type": "code",
      "source": [
        "#2.Write a code to find the length of the string \"Hello World\"\n",
        "str=\"Hello World\"\n",
        "print(\"length of string is:\",len(str))"
      ],
      "metadata": {
        "colab": {
          "base_uri": "https://localhost:8080/"
        },
        "id": "sz_gOaBGzYSc",
        "outputId": "ffa422a8-1b88-43b8-bb5b-96e2304d888c"
      },
      "execution_count": null,
      "outputs": [
        {
          "output_type": "stream",
          "name": "stdout",
          "text": [
            "length of string is: 11\n"
          ]
        }
      ]
    },
    {
      "cell_type": "code",
      "source": [
        "#3.Write a code to slice the first 3 characters from the string \"Python Programming\"\n",
        "str=\"Python Programming\"\n",
        "print(\"first three charecter of strings is \",str[0:3])"
      ],
      "metadata": {
        "colab": {
          "base_uri": "https://localhost:8080/"
        },
        "id": "fil34tNSzdpG",
        "outputId": "df2b1d2d-3229-40f3-d444-82dcecf44d0e"
      },
      "execution_count": null,
      "outputs": [
        {
          "output_type": "stream",
          "name": "stdout",
          "text": [
            "first three charecter of strings is  Pyt\n"
          ]
        }
      ]
    },
    {
      "cell_type": "code",
      "source": [
        "#4.Write a code to convert the string \"hello\" to uppercase\n",
        "str=\"hello\"\n",
        "print(\"uppercase of\",str,\" is:\",str.upper())\n"
      ],
      "metadata": {
        "colab": {
          "base_uri": "https://localhost:8080/"
        },
        "id": "cGw33OtYzjgy",
        "outputId": "b0569ca7-ca7d-4d21-cd25-b6ad4908712a"
      },
      "execution_count": null,
      "outputs": [
        {
          "output_type": "stream",
          "name": "stdout",
          "text": [
            "uppercase of hello  is: HELLO\n"
          ]
        }
      ]
    },
    {
      "cell_type": "code",
      "source": [
        "#5.Write a code to replace the word \"apple\" with \"orange\" in the string \"I like apple\"\n",
        "\n",
        "str=\"I Like Apple\"\n",
        "print(str.replace(\"Apple\",\"Orange\"))"
      ],
      "metadata": {
        "colab": {
          "base_uri": "https://localhost:8080/"
        },
        "id": "YOs-7QAWzqQN",
        "outputId": "eabbc488-2b3b-44be-b581-d7eebcbbaf19"
      },
      "execution_count": null,
      "outputs": [
        {
          "output_type": "stream",
          "name": "stdout",
          "text": [
            "I Like Orange\n"
          ]
        }
      ]
    },
    {
      "cell_type": "code",
      "source": [
        "#6. Write a code to create a list with numbers 1 to 5 and print it\n",
        "list=[]\n",
        "for i in range(1,6):\n",
        "  list.append(i)\n",
        "print(list)"
      ],
      "metadata": {
        "colab": {
          "base_uri": "https://localhost:8080/"
        },
        "id": "l_T5ZIV6zv_W",
        "outputId": "69e08551-13bf-4637-d8d6-7e4a0288f982"
      },
      "execution_count": null,
      "outputs": [
        {
          "output_type": "stream",
          "name": "stdout",
          "text": [
            "[1, 2, 3, 4, 5]\n"
          ]
        }
      ]
    },
    {
      "cell_type": "code",
      "source": [
        "#7.Write a code to append the number 10 to the list [1, 2, 3, 4]\n",
        "list=[1,2,3,4]\n",
        "print(\" list after appending 10 is:\",list.append(10),list)"
      ],
      "metadata": {
        "colab": {
          "base_uri": "https://localhost:8080/"
        },
        "id": "JcpX52Xdz06h",
        "outputId": "19e4dd48-f531-45f7-e2cf-fc675d92ecbf"
      },
      "execution_count": null,
      "outputs": [
        {
          "output_type": "stream",
          "name": "stdout",
          "text": [
            " list after appending 10 is: None [1, 2, 3, 4, 10]\n"
          ]
        }
      ]
    },
    {
      "cell_type": "code",
      "source": [
        "#8.Write a code to remove the number 3 from the list [1, 2, 3, 4, 5]\n",
        "list=[1,2,3,4,5]\n",
        "list.remove(3)\n",
        "print(\" list after removing three is\",list)\n"
      ],
      "metadata": {
        "colab": {
          "base_uri": "https://localhost:8080/"
        },
        "id": "7apOiXWkz7XP",
        "outputId": "39a72244-3594-4487-a04c-b07096fbb1b8"
      },
      "execution_count": null,
      "outputs": [
        {
          "output_type": "stream",
          "name": "stdout",
          "text": [
            " list after removing three is [1, 2, 4, 5]\n"
          ]
        }
      ]
    },
    {
      "cell_type": "code",
      "source": [
        "#9.Write a code to access the second element in the list ['a', 'b', 'c', 'd']\n",
        "list=['a','b','c','d']\n",
        "print(list[2])\n"
      ],
      "metadata": {
        "colab": {
          "base_uri": "https://localhost:8080/"
        },
        "id": "dhrNkzCW0Bsn",
        "outputId": "401accd6-881a-4310-b587-942c61d8d344"
      },
      "execution_count": null,
      "outputs": [
        {
          "output_type": "stream",
          "name": "stdout",
          "text": [
            "c\n",
            "2\n"
          ]
        }
      ]
    },
    {
      "cell_type": "code",
      "source": [
        "#10.Write a code to reverse the list [10, 20, 30, 40, 50].\n",
        "list=[10,20,30,40,50]\n",
        "print(list.sort(reverse=True),list)\n"
      ],
      "metadata": {
        "colab": {
          "base_uri": "https://localhost:8080/"
        },
        "id": "lEoIBEPQ0HaD",
        "outputId": "4251de2b-24cc-49ed-b942-fcee1a0ff212"
      },
      "execution_count": null,
      "outputs": [
        {
          "output_type": "stream",
          "name": "stdout",
          "text": [
            "None [50, 40, 30, 20, 10]\n"
          ]
        }
      ]
    },
    {
      "cell_type": "code",
      "source": [
        "#11.Write a code to create a tuple with the elements 100, 200, 300 and print it.\n",
        "tuple=(100,200,300)\n",
        "print(tuple)"
      ],
      "metadata": {
        "colab": {
          "base_uri": "https://localhost:8080/"
        },
        "id": "Mq3SyTwn5YfX",
        "outputId": "aeb58865-09b7-47f2-b802-fc42a6eb15d2"
      },
      "execution_count": null,
      "outputs": [
        {
          "output_type": "stream",
          "name": "stdout",
          "text": [
            "(100, 200, 300)\n"
          ]
        }
      ]
    },
    {
      "cell_type": "code",
      "source": [
        "#12. Write a code to access the second-to-last element of the tuple ('red', 'green', 'blue', 'yellow')\n",
        "tuple=(\"red\",\"green\",\"blue\",\"yellow\")\n",
        "n=len(tuple)\n",
        "print(tuple[n-1])\n"
      ],
      "metadata": {
        "colab": {
          "base_uri": "https://localhost:8080/"
        },
        "id": "nqbTUjQs5qv5",
        "outputId": "683de7b6-8c7a-4bac-ff4d-a5f299adab16"
      },
      "execution_count": null,
      "outputs": [
        {
          "output_type": "stream",
          "name": "stdout",
          "text": [
            "yellow\n"
          ]
        }
      ]
    },
    {
      "cell_type": "code",
      "source": [
        "#13. Write a code to find the minimum number in the tuple (10, 20, 5, 15).\n",
        "tuple=(10,20,5,15)\n",
        "print(\"minimum number is:\",min(tuple))"
      ],
      "metadata": {
        "colab": {
          "base_uri": "https://localhost:8080/"
        },
        "id": "CqHCKb2a66yR",
        "outputId": "7d3b56ff-41fb-46ea-8c2c-1faf935f6ce3"
      },
      "execution_count": null,
      "outputs": [
        {
          "output_type": "stream",
          "name": "stdout",
          "text": [
            "minimum number is: 5\n"
          ]
        }
      ]
    },
    {
      "cell_type": "code",
      "source": [
        "#14. Write a code to find the index of the element \"cat\" in the tuple ('dog', 'cat', 'rabbit').\n",
        "tuple=('dog','cat','rabbit')\n",
        "print(tuple.index(\"cat\"))"
      ],
      "metadata": {
        "colab": {
          "base_uri": "https://localhost:8080/"
        },
        "id": "wHuW_ItC7OHa",
        "outputId": "5891466e-0a8e-4878-d59d-6f79a2bda59b"
      },
      "execution_count": null,
      "outputs": [
        {
          "output_type": "stream",
          "name": "stdout",
          "text": [
            "1\n"
          ]
        }
      ]
    },
    {
      "cell_type": "code",
      "source": [
        "#15.Write a code to create a tuple containing three different fruits and check if \"kiwi\" is in it.\n",
        "tuple=(\"mango\",\"apple\",\"guava\",\"banana\")\n",
        "print(\" kiwi\" in (tuple))\n",
        "print(\"mango\"in (tuple))"
      ],
      "metadata": {
        "colab": {
          "base_uri": "https://localhost:8080/"
        },
        "id": "2AvYWZVQ7nQp",
        "outputId": "2512fe16-4076-4186-f65b-023973641289"
      },
      "execution_count": null,
      "outputs": [
        {
          "output_type": "stream",
          "name": "stdout",
          "text": [
            "False\n",
            "True\n"
          ]
        }
      ]
    },
    {
      "cell_type": "code",
      "source": [
        "#16. Write a code to create a set with the elements 'a', 'b', 'c' and print it\n",
        "set23={\"a\",\"b\",\"c\"}\n",
        "print(type(set23))\n",
        "print(set23)"
      ],
      "metadata": {
        "colab": {
          "base_uri": "https://localhost:8080/"
        },
        "id": "eFyewFmJ8Omk",
        "outputId": "47bb94c7-cc9d-4ee0-a424-168e9bc20c31"
      },
      "execution_count": null,
      "outputs": [
        {
          "output_type": "stream",
          "name": "stdout",
          "text": [
            "<class 'set'>\n",
            "{'b', 'a', 'c'}\n"
          ]
        }
      ]
    },
    {
      "cell_type": "code",
      "source": [
        "#17.Write a code to clear all elements from the set {1, 2, 3, 4, 5}.\n",
        "set2={1,2,3,4,5}\n",
        "print(set2.clear(),set2)"
      ],
      "metadata": {
        "colab": {
          "base_uri": "https://localhost:8080/"
        },
        "id": "aZn1Cz198iGS",
        "outputId": "426fbaa3-aa52-487e-f10f-1771889dfde6"
      },
      "execution_count": null,
      "outputs": [
        {
          "output_type": "stream",
          "name": "stdout",
          "text": [
            "None set()\n"
          ]
        }
      ]
    },
    {
      "cell_type": "code",
      "source": [
        "#18.Write a code to remove the element 4 from the set {1, 2, 3, 4}.\n",
        "set1={1,2,3,4}\n",
        "set1.remove(4)\n",
        "print(set1)"
      ],
      "metadata": {
        "colab": {
          "base_uri": "https://localhost:8080/"
        },
        "id": "UTTy2IeX8yBa",
        "outputId": "fe609d00-4c84-4f45-f7f0-190283fbf3f2"
      },
      "execution_count": null,
      "outputs": [
        {
          "output_type": "stream",
          "name": "stdout",
          "text": [
            "{1, 2, 3}\n"
          ]
        }
      ]
    },
    {
      "cell_type": "code",
      "source": [
        "#19.Write a code to find the union of two sets {1, 2, 3} and {3, 4, 5}.\n",
        "a={1,2,3}\n",
        "b={3,4,5}\n",
        "print(\"union of set a and b:\",a.union(b))"
      ],
      "metadata": {
        "colab": {
          "base_uri": "https://localhost:8080/"
        },
        "id": "Eo6LgLXN9M_Y",
        "outputId": "b3641166-778f-45ac-aa83-e209c6d43f74"
      },
      "execution_count": null,
      "outputs": [
        {
          "output_type": "stream",
          "name": "stdout",
          "text": [
            "union of set a and b: {1, 2, 3, 4, 5}\n"
          ]
        }
      ]
    },
    {
      "cell_type": "code",
      "source": [
        "#20.Write a code to find the intersection of two sets {1, 2, 3} and {2, 3, 4}.\n",
        "a={1,2,3}\n",
        "b={2,3,4}\n",
        "print(\"intersection of a and b:\",a.intersection(b))"
      ],
      "metadata": {
        "colab": {
          "base_uri": "https://localhost:8080/"
        },
        "id": "i_GhcHN89jjW",
        "outputId": "1a6e4a8f-5ed9-48ac-cbce-12ac1fd65108"
      },
      "execution_count": null,
      "outputs": [
        {
          "output_type": "stream",
          "name": "stdout",
          "text": [
            "intersection of a and b: {2, 3}\n"
          ]
        }
      ]
    },
    {
      "cell_type": "code",
      "source": [
        "#21.Write a code to create a dictionary with the keys \"name\", \"age\", and \"city\", and print it.\n",
        "dict={\"name\":\"sumit\",\"age\":18,\"city\":\"chennai\"}\n",
        "print(type(dict),\" \",dict)"
      ],
      "metadata": {
        "colab": {
          "base_uri": "https://localhost:8080/"
        },
        "id": "SEC2lLRH93GB",
        "outputId": "d52e99c0-e3f8-4135-ced1-76cf6f7def81"
      },
      "execution_count": null,
      "outputs": [
        {
          "output_type": "stream",
          "name": "stdout",
          "text": [
            "<class 'dict'>   {'name': 'sumit', 'age': 18, 'city': 'chennai'}\n"
          ]
        }
      ]
    },
    {
      "cell_type": "code",
      "source": [
        "#22.Write a code to add a new key-value pair \"country\": \"USA\" to the dictionary {'name': 'John', 'age': 25}.\n",
        "dict={\"name\":\"John\",\"age\":25}\n",
        "dict.update({\"counrty\":\"usa\"})\n",
        "print(dict)\n",
        "print(dict.setdefault(\"vehicle\",\"car\"),dict)"
      ],
      "metadata": {
        "colab": {
          "base_uri": "https://localhost:8080/"
        },
        "id": "CudUteMP-X-B",
        "outputId": "bea6e98d-282a-4df9-ea0e-87fe6b1a8d6a"
      },
      "execution_count": null,
      "outputs": [
        {
          "output_type": "stream",
          "name": "stdout",
          "text": [
            "{'name': 'John', 'age': 25, 'counrty': 'usa'}\n",
            "car {'name': 'John', 'age': 25, 'counrty': 'usa', 'vehicle': 'car'}\n"
          ]
        }
      ]
    },
    {
      "cell_type": "code",
      "source": [
        "#23.Write a code to access the value associated with the key \"name\" in the dictionary {'name': 'Alice', 'age': 30}.\n",
        "dict={\"name\":\"alice\",\"age\":30}\n",
        "print(dict.get(\"name\"))"
      ],
      "metadata": {
        "colab": {
          "base_uri": "https://localhost:8080/"
        },
        "id": "0z-0S8Rc_b-z",
        "outputId": "32184b14-a338-4226-b55e-b3c2053dabfc"
      },
      "execution_count": null,
      "outputs": [
        {
          "output_type": "stream",
          "name": "stdout",
          "text": [
            "alice\n"
          ]
        }
      ]
    },
    {
      "cell_type": "code",
      "source": [
        "#24.Write a code to remove the key \"age\" from the dictionary {'name': 'Bob', 'age': 22, 'city': 'New York'}.\n",
        "dict={\"name\":\"bob\",\"age\":22,\"city\":\"newyork\"}\n",
        "print(dict.pop(\"age\"),dict)\n"
      ],
      "metadata": {
        "colab": {
          "base_uri": "https://localhost:8080/"
        },
        "id": "BYuPcixg_yY5",
        "outputId": "997bd9bd-34ca-4d62-90d6-03bd28c160c9"
      },
      "execution_count": null,
      "outputs": [
        {
          "output_type": "stream",
          "name": "stdout",
          "text": [
            "22 {'name': 'bob', 'city': 'newyork'}\n"
          ]
        }
      ]
    },
    {
      "cell_type": "code",
      "source": [
        "#25.Write a code to check if the key \"city\" exists in the dictionary {'name': 'Alice', 'city': 'Paris'}.\n",
        "dict1={\"name\":\"alice\",\"city\":\"paris\"}\n",
        "print(\"city\"in dict1)"
      ],
      "metadata": {
        "colab": {
          "base_uri": "https://localhost:8080/"
        },
        "id": "ctK4yFjMAg3H",
        "outputId": "07298c34-2a33-4cc6-dc50-b417cd0bf4ce"
      },
      "execution_count": null,
      "outputs": [
        {
          "output_type": "stream",
          "name": "stdout",
          "text": [
            "True\n"
          ]
        }
      ]
    },
    {
      "cell_type": "code",
      "source": [
        "#26.Write a code to create a list, a tuple, and a dictionary, and print them all.\n",
        "list=[45,56,2,\"rohit\",\"sumit\"]\n",
        "tuple=(56,\"sumit\",63,\"rohit\")\n",
        "dict2={\"name\":\"sumit\",\"age\":45,\"vechile\":\"car\"}\n",
        "print(list,\" \",tuple,\" \",dict2)"
      ],
      "metadata": {
        "colab": {
          "base_uri": "https://localhost:8080/"
        },
        "id": "nrky8L6FB9zS",
        "outputId": "5e5d53ce-dfcc-4bb9-cbec-664eaf8ac8d6"
      },
      "execution_count": null,
      "outputs": [
        {
          "output_type": "stream",
          "name": "stdout",
          "text": [
            "[45, 56, 2, 'rohit', 'sumit']   (56, 'sumit', 63, 'rohit')   {'name': 'sumit', 'age': 45, 'vechile': 'car'}\n"
          ]
        }
      ]
    },
    {
      "cell_type": "code",
      "source": [
        "#27.\"\"\"Write a code to create a list of 5 random numbers between 1 and 100, sort it in ascending order, and print the result.(replaced)\"\"\"\n",
        "list=[45,65,78,96,36]\n",
        "print(list.sort(),list)"
      ],
      "metadata": {
        "colab": {
          "base_uri": "https://localhost:8080/"
        },
        "id": "KaZLwv7WCihI",
        "outputId": "7eebc04e-2837-454c-8ff1-097bdad936b3"
      },
      "execution_count": null,
      "outputs": [
        {
          "output_type": "stream",
          "name": "stdout",
          "text": [
            "None [36, 45, 65, 78, 96]\n"
          ]
        }
      ]
    },
    {
      "cell_type": "code",
      "source": [
        "#28. Write a code to create a list with strings and print the element at the third index\n",
        "list1=[\"rohit\",\"sumit\",\"amit\",\"warrior\"]\n",
        "print(list1[3])"
      ],
      "metadata": {
        "colab": {
          "base_uri": "https://localhost:8080/"
        },
        "id": "fj8oLgu9DHlu",
        "outputId": "2825ee34-87af-4a8e-e5a3-eeb8ab4cdb26"
      },
      "execution_count": null,
      "outputs": [
        {
          "output_type": "stream",
          "name": "stdout",
          "text": [
            "warrior\n"
          ]
        }
      ]
    },
    {
      "cell_type": "code",
      "source": [
        "#29.Write a code to combine two dictionaries into one and print the result.\n",
        "a={\"name\":\"sumit\",\"age\":96,\"school\":78}\n",
        "b={\"id\":45,\"idname\":\"sumit\"}\n",
        "print(a.update(b),a)"
      ],
      "metadata": {
        "colab": {
          "base_uri": "https://localhost:8080/"
        },
        "id": "QXmoP523Dc4q",
        "outputId": "ff09af14-d5fa-4206-8259-9496686b9f61"
      },
      "execution_count": null,
      "outputs": [
        {
          "output_type": "stream",
          "name": "stdout",
          "text": [
            "None {'name': 'sumit', 'age': 96, 'school': 78, 'id': 45, 'idname': 'sumit'}\n"
          ]
        }
      ]
    },
    {
      "cell_type": "code",
      "metadata": {
        "colab": {
          "base_uri": "https://localhost:8080/"
        },
        "id": "9899084d",
        "outputId": "72bc05fa-f892-4ce2-d47d-ce73f114c6f0"
      },
      "source": [
        "#30.Write a code to convert a list of strings into a set.\n",
        "l=[\"rohit\",\"sumit\"]\n",
        "my_set = set(l) # Correctly converting a list of strings to a set\n",
        "print(my_set)"
      ],
      "execution_count": null,
      "outputs": [
        {
          "output_type": "stream",
          "name": "stdout",
          "text": [
            "{'rohit', 'sumit'}\n"
          ]
        }
      ]
    }
  ]
}